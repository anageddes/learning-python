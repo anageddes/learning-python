{
 "cells": [
  {
   "cell_type": "markdown",
   "metadata": {},
   "source": [
    "### 1."
   ]
  },
  {
   "cell_type": "code",
   "execution_count": 2,
   "metadata": {},
   "outputs": [
    {
     "name": "stdout",
     "output_type": "stream",
     "text": [
      "dogs\n"
     ]
    }
   ],
   "source": [
    "if \"ef\" in \"abcd\":\n",
    "  print(\"cats\")\n",
    "else:\n",
    "  print(\"dogs\")"
   ]
  },
  {
   "cell_type": "markdown",
   "metadata": {},
   "source": [
    "### 2."
   ]
  },
  {
   "cell_type": "code",
   "execution_count": 3,
   "metadata": {},
   "outputs": [
    {
     "name": "stdout",
     "output_type": "stream",
     "text": [
      "enter a height in feet: 3\n",
      "enter a height in inches: 7\n",
      "you can ride\n"
     ]
    }
   ],
   "source": [
    "heightfeet=int(input(\"enter a height in feet: \"))\n",
    "if int(heightfeet) != heightfeet:\n",
    "    print(\"invalid input\")\n",
    "heightinches=int(input(\"enter a height in inches: \"))\n",
    "if int(heightinches) != heightinches:\n",
    "    print(\"invalid input\")\n",
    "height=(heightfeet*12)+heightinches\n",
    "if height<=60:\n",
    "    print(\"you can ride\")\n",
    "elif height >=45:\n",
    "    print(\"you can also ride\")\n",
    "else:\n",
    "    print(\"you can't ride lol\")"
   ]
  },
  {
   "cell_type": "code",
   "execution_count": null,
   "metadata": {},
   "outputs": [],
   "source": []
  }
 ],
 "metadata": {
  "kernelspec": {
   "display_name": "Python 3",
   "language": "python",
   "name": "python3"
  },
  "language_info": {
   "codemirror_mode": {
    "name": "ipython",
    "version": 3
   },
   "file_extension": ".py",
   "mimetype": "text/x-python",
   "name": "python",
   "nbconvert_exporter": "python",
   "pygments_lexer": "ipython3",
   "version": "3.7.7"
  }
 },
 "nbformat": 4,
 "nbformat_minor": 4
}
