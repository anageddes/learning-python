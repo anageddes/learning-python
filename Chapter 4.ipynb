{
 "cells": [
  {
   "cell_type": "markdown",
   "metadata": {},
   "source": [
    "### 1."
   ]
  },
  {
   "cell_type": "code",
   "execution_count": 2,
   "metadata": {},
   "outputs": [
    {
     "name": "stdout",
     "output_type": "stream",
     "text": [
      "foo\n"
     ]
    }
   ],
   "source": [
    "if \"ab\" in \"abcd\":\n",
    "  print(\"foo\")\n",
    "else:\n",
    "  print(\"bar\")"
   ]
  },
  {
   "cell_type": "code",
   "execution_count": 20,
   "metadata": {},
   "outputs": [
    {
     "name": "stdout",
     "output_type": "stream",
     "text": [
      "foo\n"
     ]
    }
   ],
   "source": [
    "a = True\n",
    "if \"ab\" in \"abcd\":\n",
    "    print(\"foo\")\n",
    "    a = False\n",
    "if a:\n",
    "    print(\"bar\")"
   ]
  },
  {
   "cell_type": "markdown",
   "metadata": {},
   "source": [
    "### 2."
   ]
  },
  {
   "cell_type": "code",
   "execution_count": 13,
   "metadata": {},
   "outputs": [
    {
     "name": "stdout",
     "output_type": "stream",
     "text": [
      "enter a height in feet: 3\n",
      "enter a height in inches: 7\n",
      "you can ride!\n"
     ]
    }
   ],
   "source": [
    "heightfeet=int(input(\"enter a height in feet: \"))\n",
    "if int(heightfeet) != heightfeet:\n",
    "    print(\"invalid input\")\n",
    "heightinches=int(input(\"enter a height in inches: \"))\n",
    "if int(heightinches) != heightinches:\n",
    "    print(\"invalid input\")\n",
    "height=(heightfeet*12)+heightinches\n",
    "if height<=60:\n",
    "    print(\"you can ride!\")\n",
    "elif height >=45:\n",
    "    print(\"you can also ride!\")\n",
    "else:\n",
    "    print(\"you can't ride lol\")"
   ]
  },
  {
   "cell_type": "markdown",
   "metadata": {},
   "source": [
    "### 3."
   ]
  },
  {
   "cell_type": "code",
   "execution_count": 1,
   "metadata": {},
   "outputs": [
    {
     "name": "stdout",
     "output_type": "stream",
     "text": [
      "enter a number: 1.4\n",
      "a = 1.4 is positive\n"
     ]
    }
   ],
   "source": [
    "a = float(input(\"enter a number: \"))\n",
    "print(f\"a = {a} is \" + (\"positive\" if a>0 else \"negative\" if a<0 else \"zero\"))"
   ]
  },
  {
   "cell_type": "markdown",
   "metadata": {},
   "source": [
    "### 4."
   ]
  },
  {
   "cell_type": "code",
   "execution_count": 8,
   "metadata": {},
   "outputs": [
    {
     "name": "stdout",
     "output_type": "stream",
     "text": [
      "enter a positive integer: 228\n",
      "228 is even\n"
     ]
    }
   ],
   "source": [
    "a = input(\"enter a positive integer: \")\n",
    "decimal = a.count(\".\")\n",
    "b = a.replace(\".\",\" \")\n",
    "\n",
    "if not b.isnumeric() or decimal> 1:\n",
    "    print(f\"{a} is not a number\")\n",
    "elif b.isnumeric() and decimal== 1:\n",
    "    print(f\"{a} is not an integer\")\n",
    "elif int(a)% 2 == 0:\n",
    "    print(f\"{a} is even\")\n",
    "else:\n",
    "    print(f\"{b} is odd\")"
   ]
  },
  {
   "cell_type": "markdown",
   "metadata": {},
   "source": [
    "### 5."
   ]
  },
  {
   "cell_type": "code",
   "execution_count": 10,
   "metadata": {},
   "outputs": [
    {
     "name": "stdout",
     "output_type": "stream",
     "text": [
      "enter a grade from 0 to 100 90.3\n",
      "A\n"
     ]
    }
   ],
   "source": [
    "grade=float(input(\"enter a grade from 0 to 100\"))\n",
    "if 100 >= grade > 90:\n",
    "    print(\"A\")\n",
    "elif 90 >= grade > 80:\n",
    "    print(\"B\")\n",
    "elif 80 >= grade > 70:\n",
    "    print(\"C\")\n",
    "elif 70 >= grade > 60:\n",
    "    print(\"D\")\n",
    "elif 60 >= grade >= 0:\n",
    "    print(\"F\")\n",
    "else:\n",
    "    print(\"not a valid grade\")"
   ]
  },
  {
   "cell_type": "markdown",
   "metadata": {},
   "source": [
    "### 6."
   ]
  },
  {
   "cell_type": "code",
   "execution_count": 12,
   "metadata": {},
   "outputs": [
    {
     "name": "stdout",
     "output_type": "stream",
     "text": [
      "enter A's choice: rock\n",
      "enter B's choice: scissors\n",
      "player A wins\n"
     ]
    }
   ],
   "source": [
    "playerachoice = input(\"enter A's choice: \")\n",
    "playerbchoice = input(\"enter B's choice: \")\n",
    "\n",
    "playera = playerachoice.lower()\n",
    "playerb = playerbchoice.lower()\n",
    "\n",
    "if playera == \"rock\" and playerb == \"scissors\":\n",
    "    print(\"player A wins\")\n",
    "elif playera == \"rock\" and playerb == \"paper\":\n",
    "    print(\"player B wins\")\n",
    "elif playera == \"paper\" and playerb == \"scissors\":\n",
    "    print(\"player B wins\")\n",
    "elif playera == \"scissors\" and playerb == \"paper\":\n",
    "    print(\"player A wins\")\n",
    "else:\n",
    "    print(\"tie\")"
   ]
  },
  {
   "cell_type": "markdown",
   "metadata": {},
   "source": [
    "### 7."
   ]
  },
  {
   "cell_type": "code",
   "execution_count": 18,
   "metadata": {},
   "outputs": [
    {
     "name": "stdout",
     "output_type": "stream",
     "text": [
      "enter a weight in pounds: 135\n",
      "enter a height in inches: 64\n",
      "23.2\n",
      "BMI of 23.2 is normal weight\n"
     ]
    }
   ],
   "source": [
    "weight = float(input(\"enter a weight in pounds: \" ))\n",
    "height = float(input(\"enter a height in inches: \" ))\n",
    "bmiraw=(weight*703)/(height)**2\n",
    "bmi=round(bmiraw, 1)\n",
    "print(bmi)\n",
    "\n",
    "if bmi<18.5:\n",
    "    print(f\"BMI of {bmi} is underweight\")\n",
    "elif 18.5<= bmi <= 24.9:\n",
    "    print(f\"BMI of {bmi} is normal weight\")\n",
    "elif 25<= bmi <= 29.9:\n",
    "    print(f\"BMI of {bmi} is overweight\")\n",
    "else:\n",
    "    print(f\"BMI of {bmi} is obese\")"
   ]
  },
  {
   "cell_type": "markdown",
   "metadata": {},
   "source": [
    "### 8."
   ]
  },
  {
   "cell_type": "code",
   "execution_count": 19,
   "metadata": {},
   "outputs": [
    {
     "name": "stdout",
     "output_type": "stream",
     "text": [
      "enter a year: 2024\n",
      "2024 is a leap year\n"
     ]
    }
   ],
   "source": [
    "year=int(input(\"enter a year: \"))\n",
    "\n",
    "if year%400 == 0:\n",
    "    print(f\"{year} is a leap year\")\n",
    "elif year%4==0 and year%100 != 0:\n",
    "    print(f\"{year} is a leap year\")\n",
    "else: \n",
    "    print(f\"{year} is not a leap year\")"
   ]
  },
  {
   "cell_type": "markdown",
   "metadata": {},
   "source": [
    "### 9. "
   ]
  },
  {
   "cell_type": "code",
   "execution_count": 25,
   "metadata": {},
   "outputs": [
    {
     "name": "stdout",
     "output_type": "stream",
     "text": [
      "enter a month: March\n",
      "enter a day: 24\n",
      "enter a year: 2024\n",
      "The day of the week on March 24, 2024 is Sunday\n"
     ]
    }
   ],
   "source": [
    "month=input(\"enter a month: \")\n",
    "day=int(input(\"enter a day: \"))\n",
    "year=int(input(\"enter a year: \"))\n",
    "\n",
    "if month == \"April\" or month == \"July\":\n",
    "    monthcode=0\n",
    "elif month == \"January\" or month == \"October\":\n",
    "    monthcode=1\n",
    "elif month == \"May\":\n",
    "    monthcode=2\n",
    "elif month == \"August\":\n",
    "    monthcode=3\n",
    "elif month == \"February\" or month == \"March\" or month == \"November\":\n",
    "    monthcode=4\n",
    "elif month == \"June\":\n",
    "    monthcode=5\n",
    "elif month == \"September\" or month == \"December\":\n",
    "    monthcode=6\n",
    "else:\n",
    "    print(\"not a valid month\")\n",
    "\n",
    "if year%400==0:\n",
    "    leapyear = \"yes\"\n",
    "elif year%4==0 and year%100!=0:\n",
    "    leapyear = \"yes\"\n",
    "else:\n",
    "    leapyear = \"no\"\n",
    "\n",
    "if month == \"January\" or month == \"February\" and leapyear== yes:\n",
    "    monthcode=monthcode-1\n",
    "else:\n",
    "    monthcode=monthcode\n",
    "\n",
    "if year<1990:\n",
    "    centoff=2\n",
    "elif year>1999:\n",
    "    centoff=-1\n",
    "else:\n",
    "    centoff=0\n",
    "    \n",
    "lasttwoyr= year%100\n",
    "lasttwoyrdiv= lasttwoyr//4\n",
    "\n",
    "daycode= (lasttwoyrdiv+lasttwoyr+monthcode+day+centoff)%7\n",
    "\n",
    "if daycode == 0:\n",
    "    print(f\"The day of the week on {month} {day}, {year} is Saturday\")\n",
    "if daycode == 1:\n",
    "    print(f\"The day of the week on {month} {day}, {year} is Sunday\")\n",
    "if daycode == 2:\n",
    "    print(f\"The day of the week on {month} {day}, {year} is Monday\")\n",
    "if daycode == 3:\n",
    "    print(f\"The day of the week on {month} {day}, {year} is Tuesday\")\n",
    "if daycode == 4:\n",
    "    print(f\"The day of the week on {month} {day}, {year} is Wednesday\")\n",
    "if daycode == 5:\n",
    "    print(f\"The day of the week on {month} {day}, {year} is Thursday\")\n",
    "if daycode == 6:\n",
    "    print(f\"The day of the week on {month} {day}, {year} is Friday\")"
   ]
  },
  {
   "cell_type": "markdown",
   "metadata": {},
   "source": [
    "### 10."
   ]
  },
  {
   "cell_type": "code",
   "execution_count": 26,
   "metadata": {},
   "outputs": [
    {
     "name": "stdout",
     "output_type": "stream",
     "text": [
      "enter player's score:25\n",
      "enter opponent's score:37\n",
      "enter turn total:46\n",
      "hold\n"
     ]
    }
   ],
   "source": [
    "i=int(input(\"enter player's score:\"))\n",
    "j=int(input(\"enter opponent's score:\"))\n",
    "k=int(input(\"enter turn total:\"))\n",
    "\n",
    "if i+k >= 100:\n",
    "    print(\"hold\")\n",
    "elif i >= 71 or j >= 71:\n",
    "    print(\"roll\")\n",
    "elif k<21 + round((j - i) / 8):\n",
    "    print(\"roll\")\n",
    "else:\n",
    "    print(\"hold\")"
   ]
  },
  {
   "cell_type": "markdown",
   "metadata": {},
   "source": [
    "### 11."
   ]
  },
  {
   "cell_type": "code",
   "execution_count": 28,
   "metadata": {},
   "outputs": [
    {
     "name": "stdout",
     "output_type": "stream",
     "text": [
      "the file does not exist\n"
     ]
    }
   ],
   "source": [
    "import os\n",
    "if os.path.exists(\"dogs.txt\"):\n",
    "    print(\"the file exists\")\n",
    "else:\n",
    "    print(\"the file does not exist\")"
   ]
  }
 ],
 "metadata": {
  "kernelspec": {
   "display_name": "Python 3",
   "language": "python",
   "name": "python3"
  },
  "language_info": {
   "codemirror_mode": {
    "name": "ipython",
    "version": 3
   },
   "file_extension": ".py",
   "mimetype": "text/x-python",
   "name": "python",
   "nbconvert_exporter": "python",
   "pygments_lexer": "ipython3",
   "version": "3.7.7"
  }
 },
 "nbformat": 4,
 "nbformat_minor": 4
}
