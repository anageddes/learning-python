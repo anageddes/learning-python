{
 "cells": [
  {
   "cell_type": "code",
   "execution_count": 4,
   "metadata": {},
   "outputs": [],
   "source": [
    "import math\n",
    "from functools import lru_cache\n",
    "@lru_cache(maxsize = None)\n",
    "def factorial(n): return 1 if n < 2 else n * factorial(n - 1)"
   ]
  },
  {
   "cell_type": "code",
   "execution_count": 5,
   "metadata": {},
   "outputs": [
    {
     "name": "stdout",
     "output_type": "stream",
     "text": [
      "3.1415926535897922\n"
     ]
    }
   ],
   "source": [
    "pi = 0\n",
    "k = 0\n",
    "while k <100:\n",
    "    pi += 2*(2**k * factorial(k)**2) / factorial(2 * k + 1)\n",
    "    k += 1\n",
    "print(pi)"
   ]
  },
  {
   "cell_type": "code",
   "execution_count": 6,
   "metadata": {},
   "outputs": [
    {
     "name": "stdout",
     "output_type": "stream",
     "text": [
      "2.7182818284590455\n"
     ]
    }
   ],
   "source": [
    "#approximation of e\n",
    "e = 0\n",
    "n = 0\n",
    "\n",
    "while n <100:\n",
    "    e += 1/ factorial(n)\n",
    "    n +=1\n",
    "print(e)"
   ]
  },
  {
   "cell_type": "code",
   "execution_count": 11,
   "metadata": {},
   "outputs": [
    {
     "name": "stdout",
     "output_type": "stream",
     "text": [
      "3.1415926535897936\n"
     ]
    }
   ],
   "source": [
    "#approximation of pi- madhava\n",
    "pi = 0\n",
    "k = 0\n",
    "\n",
    "while k <100:\n",
    "    pi += math.sqrt(12) * ((-3)**(-k))/ (2 * k + 1)\n",
    "    k +=1\n",
    "print(pi)"
   ]
  },
  {
   "cell_type": "code",
   "execution_count": 17,
   "metadata": {},
   "outputs": [
    {
     "name": "stdout",
     "output_type": "stream",
     "text": [
      "0.0\n"
     ]
    }
   ],
   "source": [
    "#approximation of pi- ramanujan\n",
    "pi = 0\n",
    "k = 0\n",
    "\n",
    "while k<100:\n",
    "    numerator= factorial(4 * k) + (1103+26390 * k)\n",
    "    denominator= (factorial(k))**4*(396**(4*k))\n",
    "    one_over_pi= 2*(math.sqrt(2))/9801\n",
    "    k +=1\n",
    "print(one_over_pi*(numerator/denominator))"
   ]
  },
  {
   "cell_type": "code",
   "execution_count": 15,
   "metadata": {},
   "outputs": [
    {
     "name": "stdout",
     "output_type": "stream",
     "text": [
      "1.618033988749895\n"
     ]
    }
   ],
   "source": [
    "#continued fraction\n",
    "frac = 1\n",
    "i = 0\n",
    "\n",
    "while i < 100:\n",
    "    frac = 1 + (1/frac)\n",
    "    i += 1\n",
    "print(frac)"
   ]
  },
  {
   "cell_type": "code",
   "execution_count": null,
   "metadata": {},
   "outputs": [],
   "source": []
  }
 ],
 "metadata": {
  "kernelspec": {
   "display_name": "Python 3",
   "language": "python",
   "name": "python3"
  },
  "language_info": {
   "codemirror_mode": {
    "name": "ipython",
    "version": 3
   },
   "file_extension": ".py",
   "mimetype": "text/x-python",
   "name": "python",
   "nbconvert_exporter": "python",
   "pygments_lexer": "ipython3",
   "version": "3.7.7"
  }
 },
 "nbformat": 4,
 "nbformat_minor": 4
}
