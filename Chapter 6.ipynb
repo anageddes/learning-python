{
 "cells": [
  {
   "cell_type": "markdown",
   "metadata": {},
   "source": [
    "### 1."
   ]
  },
  {
   "cell_type": "code",
   "execution_count": 47,
   "metadata": {},
   "outputs": [
    {
     "name": "stdout",
     "output_type": "stream",
     "text": [
      "roll: 4\n",
      "roll: 4\n",
      "roll: 1\n",
      "turn total: 0\n"
     ]
    }
   ],
   "source": [
    "import random as rd \n",
    "rd.seed(0)\n",
    "\n",
    "turntotal=0\n",
    "currentroll=0\n",
    "\n",
    "while turntotal<20 and currentroll!=1:\n",
    "    currentroll=rd.randint(1,6)\n",
    "    print(f\"roll: {currentroll}\")\n",
    "    if currentroll==1:\n",
    "        turntotal=0\n",
    "    else:\n",
    "        turntotal+=currentroll\n",
    "print(f\"turn total: {turntotal}\")"
   ]
  },
  {
   "cell_type": "markdown",
   "metadata": {},
   "source": [
    "### 2."
   ]
  },
  {
   "cell_type": "code",
   "execution_count": 53,
   "metadata": {},
   "outputs": [
    {
     "name": "stdout",
     "output_type": "stream",
     "text": [
      "score?60\n",
      "roll: 4\n",
      "roll: 4\n",
      "roll: 1\n",
      "turn total:0\n",
      "new score:60\n"
     ]
    }
   ],
   "source": [
    "import random as rd \n",
    "rd.seed(0)\n",
    "\n",
    "score=int(input(\"score?\"))\n",
    "turntotal=0\n",
    "currentroll=0\n",
    "\n",
    "while turntotal<20 and currentroll!=1 and score+turntotal>=10:\n",
    "    currentroll=rd.randint(1,6)\n",
    "    print(f\"roll: {currentroll}\")\n",
    "    if currentroll==1:\n",
    "        turntotal=0\n",
    "    else:\n",
    "        turntotal+=currentroll\n",
    "print(f\"turn total:{turntotal}\")\n",
    "print(f\"new score:{score +turntotal}\")"
   ]
  },
  {
   "cell_type": "markdown",
   "metadata": {},
   "source": [
    "### 3. "
   ]
  },
  {
   "cell_type": "code",
   "execution_count": 68,
   "metadata": {},
   "outputs": [
    {
     "name": "stdout",
     "output_type": "stream",
     "text": [
      "score?60\n",
      "roll: 4\n",
      "roll: 4\n",
      "roll: 1\n",
      "roll: 3\n",
      "roll: 5\n",
      "roll: 4\n",
      "roll: 4\n",
      "roll: 3\n",
      "turn total:3\n",
      "new score:105\n"
     ]
    }
   ],
   "source": [
    "import random as rd\n",
    "rd.seed(0)\n",
    "\n",
    "score=int(input(\"score?\"))\n",
    "\n",
    "while score<100:\n",
    "    turntotal=0\n",
    "    currentroll=0\n",
    "    while turntotal<20 and currentroll!=1 and (turntotal + score) < 100:\n",
    "        currentroll=rd.randint(1,6)\n",
    "        print(f\"roll: {currentroll}\")\n",
    "        if currentroll==1:\n",
    "            turntotal=0\n",
    "        else:\n",
    "            turntotal+=currentroll\n",
    "        score+= turntotal\n",
    "print(f\"turn total:{turntotal}\")\n",
    "print(f\"new score:{score+turntotal}\")"
   ]
  },
  {
   "cell_type": "markdown",
   "metadata": {},
   "source": [
    "### 4."
   ]
  },
  {
   "cell_type": "code",
   "execution_count": null,
   "metadata": {},
   "outputs": [],
   "source": [
    "import random as rd\n",
    "rd.seed(0)\n",
    "\n",
    "games=int(input(\"games?: \"))"
   ]
  },
  {
   "cell_type": "markdown",
   "metadata": {},
   "source": [
    "### 7."
   ]
  },
  {
   "cell_type": "code",
   "execution_count": null,
   "metadata": {},
   "outputs": [],
   "source": [
    "import math\n",
    "\n",
    "a=int(input(\"enter integer a:\"))\n",
    "b=int(input(\"enter integer b: \"))\n",
    "\n",
    "while b!=0:\n",
    "    "
   ]
  },
  {
   "cell_type": "markdown",
   "metadata": {},
   "source": [
    "### 8."
   ]
  },
  {
   "cell_type": "code",
   "execution_count": 67,
   "metadata": {},
   "outputs": [
    {
     "name": "stdout",
     "output_type": "stream",
     "text": [
      "enter an integer: -5\n",
      "-5\n",
      "-4\n",
      "-3\n",
      "-2\n",
      "-1\n",
      "0\n",
      "1\n",
      "2\n"
     ]
    }
   ],
   "source": [
    "i=int(input(\"enter an integer: \"))\n",
    "flag=True\n",
    "\n",
    "while flag or i<3:\n",
    "    flag=False\n",
    "    print(i)\n",
    "    i+= 1"
   ]
  },
  {
   "cell_type": "markdown",
   "metadata": {},
   "source": [
    "### 9."
   ]
  },
  {
   "cell_type": "code",
   "execution_count": 63,
   "metadata": {},
   "outputs": [
    {
     "name": "stdout",
     "output_type": "stream",
     "text": [
      "enter a positive integer: 12345\n",
      "54321\n"
     ]
    }
   ],
   "source": [
    "i=int(input(\"enter a positive integer: \"))\n",
    "a=0\n",
    "while i != 0:\n",
    "    a=(a*10) + (i%10)\n",
    "    i //= 10\n",
    "print(a)"
   ]
  },
  {
   "cell_type": "markdown",
   "metadata": {},
   "source": [
    "### 10. "
   ]
  },
  {
   "cell_type": "code",
   "execution_count": 65,
   "metadata": {},
   "outputs": [
    {
     "name": "stdout",
     "output_type": "stream",
     "text": [
      "guess?: 2\n",
      "too low\n",
      "try again: 5\n",
      "too low\n",
      "try again: 6\n",
      "correct!\n"
     ]
    }
   ],
   "source": [
    "import random as rd\n",
    "rd.seed(0)\n",
    "\n",
    "guess=int(input(\"guess?: \"))\n",
    "number= rd.randint(0,10)\n",
    "\n",
    "while number!=guess:\n",
    "    if number>guess:\n",
    "        print(\"too low\")\n",
    "    else:\n",
    "        print(\"too high\")\n",
    "    guess=int(input(\"try again: \"))\n",
    "print(\"correct!\")"
   ]
  },
  {
   "cell_type": "markdown",
   "metadata": {},
   "source": [
    "### 11."
   ]
  },
  {
   "cell_type": "code",
   "execution_count": 66,
   "metadata": {},
   "outputs": [
    {
     "ename": "SyntaxError",
     "evalue": "invalid syntax (<ipython-input-66-72e8dc413902>, line 6)",
     "output_type": "error",
     "traceback": [
      "\u001b[0;36m  File \u001b[0;32m\"<ipython-input-66-72e8dc413902>\"\u001b[0;36m, line \u001b[0;32m6\u001b[0m\n\u001b[0;31m    sum=int(input(int1+int2: ))\u001b[0m\n\u001b[0m                           ^\u001b[0m\n\u001b[0;31mSyntaxError\u001b[0m\u001b[0;31m:\u001b[0m invalid syntax\n"
     ]
    }
   ],
   "source": [
    "import random as rd\n",
    "rd.seed(0)\n",
    "\n",
    "int1=rd.randint(0,100)\n",
    "int2=rd.randint(0,100)\n",
    "sum=int(input(int1+int2: ))\n",
    "\n",
    "while sum=! int1+int2:\n",
    "    if sum<int1+int2:\n",
    "        print(\"too low\")\n",
    "    else:\n",
    "        print(\"too high\")\n",
    "print(\"correct!\")\n",
    "#come back to this one"
   ]
  },
  {
   "cell_type": "markdown",
   "metadata": {},
   "source": [
    "### 12."
   ]
  },
  {
   "cell_type": "code",
   "execution_count": null,
   "metadata": {},
   "outputs": [],
   "source": []
  }
 ],
 "metadata": {
  "kernelspec": {
   "display_name": "Python 3",
   "language": "python",
   "name": "python3"
  },
  "language_info": {
   "codemirror_mode": {
    "name": "ipython",
    "version": 3
   },
   "file_extension": ".py",
   "mimetype": "text/x-python",
   "name": "python",
   "nbconvert_exporter": "python",
   "pygments_lexer": "ipython3",
   "version": "3.7.7"
  }
 },
 "nbformat": 4,
 "nbformat_minor": 4
}
