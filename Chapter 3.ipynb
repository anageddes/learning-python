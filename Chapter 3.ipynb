{
 "cells": [
  {
   "cell_type": "markdown",
   "metadata": {},
   "source": [
    "### 1."
   ]
  },
  {
   "cell_type": "code",
   "execution_count": 2,
   "metadata": {},
   "outputs": [
    {
     "name": "stdout",
     "output_type": "stream",
     "text": [
      "Ana\n",
      "2022\n",
      "Broomall\n",
      "something new to do\n"
     ]
    }
   ],
   "source": [
    "print(\"Ana\\n2022\\nBroomall\\nsomething new to do\")"
   ]
  },
  {
   "cell_type": "markdown",
   "metadata": {},
   "source": [
    "### 2."
   ]
  },
  {
   "cell_type": "code",
   "execution_count": 97,
   "metadata": {},
   "outputs": [
    {
     "name": "stdout",
     "output_type": "stream",
     "text": [
      "This is how you print a double-quote (\"), a backslash (\\), and a lowercase o with stroke (ø).\n",
      "A tab and a newline are printed using a \"\\t\" and \"\\n\", respectively.\n"
     ]
    }
   ],
   "source": [
    "print(\"\"\"This is how you print a double-quote (\"), a backslash (\\), and a lowercase o with stroke (ø).\\nA tab and a newline are printed using a \\\"\\\\t\\\" and \\\"\\\\n\\\", respectively.\"\"\")"
   ]
  },
  {
   "cell_type": "markdown",
   "metadata": {},
   "source": [
    "### 3."
   ]
  },
  {
   "cell_type": "code",
   "execution_count": 42,
   "metadata": {},
   "outputs": [
    {
     "name": "stdout",
     "output_type": "stream",
     "text": [
      "super-duper-duper-duper-duper-duper-duper-duper-duper-duper-duper-fun\n"
     ]
    }
   ],
   "source": [
    "str_one=\"super-\"\n",
    "str_two=\"duper-\"\n",
    "str_three=\"fun\"\n",
    "print(str_one+str_two*10+str_three)"
   ]
  },
  {
   "cell_type": "code",
   "execution_count": 43,
   "metadata": {},
   "outputs": [
    {
     "name": "stdout",
     "output_type": "stream",
     "text": [
      "r\n",
      "r\n"
     ]
    }
   ],
   "source": [
    "a=\"super-duper-duper-duper-duper-duper-duper-duper-duper-duper-duper-fun\"\n",
    "b=a[34]\n",
    "print(b)\n",
    "c=a[-35]\n",
    "print(c)"
   ]
  },
  {
   "cell_type": "markdown",
   "metadata": {},
   "source": [
    "### 4."
   ]
  },
  {
   "cell_type": "code",
   "execution_count": 105,
   "metadata": {},
   "outputs": [
    {
     "name": "stdout",
     "output_type": "stream",
     "text": [
      "If you tell me where, I'm waiting here, Everyday like slum-dog millionaire\n",
      "74\n",
      "If you tell me where, I'm waiting here, \n",
      "Everyday like slum-dog millionaire\n",
      "75\n"
     ]
    }
   ],
   "source": [
    "d=\"If you tell me where, I'm waiting here, Everyday like slum-dog millionaire\"\n",
    "print(d)\n",
    "print(len(d))\n",
    "e=\"If you tell me where, I'm waiting here, \\nEveryday like slum-dog millionaire\"\n",
    "print(e)\n",
    "print(len(e))"
   ]
  },
  {
   "cell_type": "markdown",
   "metadata": {},
   "source": [
    "### 5."
   ]
  },
  {
   "cell_type": "code",
   "execution_count": 63,
   "metadata": {},
   "outputs": [
    {
     "name": "stdout",
     "output_type": "stream",
     "text": [
      "abcdefghijklmnopqrstuvwxyz\n",
      "bdfhjln\n",
      "hfd\n",
      "yvspmj\n",
      "xr\n"
     ]
    }
   ],
   "source": [
    "print(\"abcdefghijklmnopqrstuvwxyz\")\n",
    "print(\"abcdefghijklmnopqrstuvwxyz\"[1:14:2])\n",
    "print(\"abcdefghijklmnopqrstuvwxyz\"[7:2:-2])\n",
    "print(\"abcdefghijklmnopqrstuvwxyz\"[24:8:-3])\n",
    "print(\"abcdefghijklmnopqrstuvwxyz\"[23:16:-6])"
   ]
  },
  {
   "cell_type": "markdown",
   "metadata": {},
   "source": [
    "### 6."
   ]
  },
  {
   "cell_type": "code",
   "execution_count": 101,
   "metadata": {},
   "outputs": [
    {
     "data": {
      "text/plain": [
       "'Apples'"
      ]
     },
     "execution_count": 101,
     "metadata": {},
     "output_type": "execute_result"
    }
   ],
   "source": [
    "\"apples\".capitalize()"
   ]
  },
  {
   "cell_type": "code",
   "execution_count": 100,
   "metadata": {},
   "outputs": [
    {
     "name": "stdout",
     "output_type": "stream",
     "text": [
      "~~~~~~oranges~~~~~~~\n"
     ]
    }
   ],
   "source": [
    "txt=\"oranges\"\n",
    "x=txt.center(20, \"~\")\n",
    "print(x)"
   ]
  },
  {
   "cell_type": "code",
   "execution_count": 99,
   "metadata": {},
   "outputs": [
    {
     "name": "stdout",
     "output_type": "stream",
     "text": [
      "1\n"
     ]
    }
   ],
   "source": [
    "txt=\"lemons\"\n",
    "x=txt.count(\"lemons\")\n",
    "print(x)"
   ]
  },
  {
   "cell_type": "code",
   "execution_count": 98,
   "metadata": {},
   "outputs": [
    {
     "name": "stdout",
     "output_type": "stream",
     "text": [
      "True\n"
     ]
    }
   ],
   "source": [
    "txt=\"applesauce is an acceptable meal replacement\"\n",
    "x=txt.endswith(\"t\")\n",
    "print(x)"
   ]
  },
  {
   "cell_type": "code",
   "execution_count": 78,
   "metadata": {
    "scrolled": true
   },
   "outputs": [
    {
     "name": "stdout",
     "output_type": "stream",
     "text": [
      "10\n"
     ]
    }
   ],
   "source": [
    "txt=\"hurricane katrina, more like hurricane TORTILLA\"\n",
    "x=txt.find(\"katrina\")\n",
    "print(x)"
   ]
  },
  {
   "cell_type": "code",
   "execution_count": 104,
   "metadata": {},
   "outputs": [
    {
     "name": "stdout",
     "output_type": "stream",
     "text": [
      "Looking for a\n",
      "That you're looking for a boyfriend\n",
      "I see that\n",
      "Gimme time, you know I'm gonna be there\n",
      "Don't be scared to come put your trust in me\n",
      "Can't you see all I really want to be\n",
      "Is your boyfriend\n",
      "Can't fight that\n",
      "40\n"
     ]
    }
   ],
   "source": [
    "txt=\"Looking for a\\nThat you're looking for a boyfriend\\nI see that\\nGimme time, you know I'm gonna be there\\nDon't be scared to come put your trust in me\\nCan't you see all I really want to be\\nIs your boyfriend\\nCan't fight that\"\n",
    "print(txt)\n",
    "x=txt.index(\"boyfriend\")\n",
    "print(x)"
   ]
  },
  {
   "cell_type": "code",
   "execution_count": 102,
   "metadata": {},
   "outputs": [
    {
     "name": "stdout",
     "output_type": "stream",
     "text": [
      "True\n"
     ]
    }
   ],
   "source": [
    "txt=\"pears\"\n",
    "x=txt.isalnum()\n",
    "print(x)"
   ]
  },
  {
   "cell_type": "code",
   "execution_count": 96,
   "metadata": {},
   "outputs": [
    {
     "name": "stdout",
     "output_type": "stream",
     "text": [
      "BONELESS PIZZA\n"
     ]
    }
   ],
   "source": [
    "txt=\"boneless pizza\"\n",
    "x=txt.upper()\n",
    "print(x)"
   ]
  },
  {
   "cell_type": "markdown",
   "metadata": {},
   "source": [
    "### 7."
   ]
  },
  {
   "cell_type": "code",
   "execution_count": 109,
   "metadata": {},
   "outputs": [
    {
     "name": "stdout",
     "output_type": "stream",
     "text": [
      "geddan01\n",
      "foxar01\n"
     ]
    }
   ],
   "source": [
    "firstname=\"ana\"\n",
    "lastname=\"geddes\"\n",
    "print((lastname[0:4])+(firstname[0:2])+\"01\")\n",
    "firstname2=\"arthur\"\n",
    "lastname2=\"fox\"\n",
    "print((lastname2[0:4])+(firstname2[0:2])+\"01\")\n",
    "#uses full last name, no extra characters"
   ]
  }
 ],
 "metadata": {
  "kernelspec": {
   "display_name": "Python 3",
   "language": "python",
   "name": "python3"
  },
  "language_info": {
   "codemirror_mode": {
    "name": "ipython",
    "version": 3
   },
   "file_extension": ".py",
   "mimetype": "text/x-python",
   "name": "python",
   "nbconvert_exporter": "python",
   "pygments_lexer": "ipython3",
   "version": "3.7.7"
  }
 },
 "nbformat": 4,
 "nbformat_minor": 4
}
