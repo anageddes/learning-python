{
 "cells": [
  {
   "cell_type": "markdown",
   "metadata": {},
   "source": [
    "### 1."
   ]
  },
  {
   "cell_type": "code",
   "execution_count": 2,
   "metadata": {},
   "outputs": [
    {
     "name": "stdout",
     "output_type": "stream",
     "text": [
      "Ana\n",
      "2022\n",
      "Broomall\n",
      "something new to do\n"
     ]
    }
   ],
   "source": [
    "print(\"Ana\\n2022\\nBroomall\\nsomething new to do\")"
   ]
  },
  {
   "cell_type": "markdown",
   "metadata": {},
   "source": [
    "### 2."
   ]
  },
  {
   "cell_type": "code",
   "execution_count": 15,
   "metadata": {},
   "outputs": [
    {
     "name": "stdout",
     "output_type": "stream",
     "text": [
      "\"This is how you print a double-quote (\"), a backslash (\\), and a lowercase o with stroke (ø).\n",
      "A tab and a newline are printed using a \"\\t\" and \"\\n\", respectively.\n"
     ]
    }
   ],
   "source": [
    "print(\"\"\"\"This is how you print a double-quote (\"), a backslash (\\), and a lowercase o with stroke (ø).\\nA tab and a newline are printed using a \\\"\\\\t\\\" and \\\"\\\\n\\\", respectively.\"\"\")"
   ]
  },
  {
   "cell_type": "markdown",
   "metadata": {},
   "source": [
    "### 3."
   ]
  },
  {
   "cell_type": "code",
   "execution_count": 42,
   "metadata": {},
   "outputs": [
    {
     "name": "stdout",
     "output_type": "stream",
     "text": [
      "super-duper-duper-duper-duper-duper-duper-duper-duper-duper-duper-fun\n"
     ]
    }
   ],
   "source": [
    "str_one=\"super-\"\n",
    "str_two=\"duper-\"\n",
    "str_three=\"fun\"\n",
    "print(str_one+str_two*10+str_three)"
   ]
  },
  {
   "cell_type": "code",
   "execution_count": 26,
   "metadata": {},
   "outputs": [
    {
     "ename": "TypeError",
     "evalue": "object of type 'int' has no len()",
     "output_type": "error",
     "traceback": [
      "\u001b[0;31m---------------------------------------------------------------------------\u001b[0m",
      "\u001b[0;31mTypeError\u001b[0m                                 Traceback (most recent call last)",
      "\u001b[0;32m<ipython-input-26-17c3cf1d5fda>\u001b[0m in \u001b[0;36m<module>\u001b[0;34m\u001b[0m\n\u001b[0;32m----> 1\u001b[0;31m \u001b[0mlen\u001b[0m\u001b[0;34m(\u001b[0m\u001b[0;36m35\u001b[0m\u001b[0;34m)\u001b[0m\u001b[0;34m\u001b[0m\u001b[0;34m\u001b[0m\u001b[0m\n\u001b[0m",
      "\u001b[0;31mTypeError\u001b[0m: object of type 'int' has no len()"
     ]
    }
   ],
   "source": []
  },
  {
   "cell_type": "code",
   "execution_count": 43,
   "metadata": {},
   "outputs": [
    {
     "name": "stdout",
     "output_type": "stream",
     "text": [
      "r\n",
      "r\n"
     ]
    }
   ],
   "source": [
    "a=\"super-duper-duper-duper-duper-duper-duper-duper-duper-duper-duper-fun\"\n",
    "b=a[34]\n",
    "print(b)\n",
    "c=a[-35]\n",
    "print(c)"
   ]
  },
  {
   "cell_type": "markdown",
   "metadata": {},
   "source": [
    "### 4."
   ]
  },
  {
   "cell_type": "code",
   "execution_count": 50,
   "metadata": {},
   "outputs": [
    {
     "name": "stdout",
     "output_type": "stream",
     "text": [
      "all my homies hate doja cat. fuck doja cat\n",
      "42\n",
      "all my homies hate doja cat. \n",
      "fuck doja cat\n",
      "43\n"
     ]
    }
   ],
   "source": [
    "d=\"all my homies hate doja cat. fuck doja cat\"\n",
    "print(d)\n",
    "print(len(d))\n",
    "e=\"all my homies hate doja cat. \\nfuck doja cat\"\n",
    "print(e)\n",
    "print(len(e))"
   ]
  },
  {
   "cell_type": "markdown",
   "metadata": {},
   "source": [
    "### 5."
   ]
  },
  {
   "cell_type": "code",
   "execution_count": 63,
   "metadata": {},
   "outputs": [
    {
     "name": "stdout",
     "output_type": "stream",
     "text": [
      "abcdefghijklmnopqrstuvwxyz\n",
      "bdfhjln\n",
      "hfd\n",
      "yvspmj\n",
      "xr\n"
     ]
    }
   ],
   "source": [
    "print(\"abcdefghijklmnopqrstuvwxyz\")\n",
    "print(\"abcdefghijklmnopqrstuvwxyz\"[1:14:2])\n",
    "print(\"abcdefghijklmnopqrstuvwxyz\"[7:2:-2])\n",
    "print(\"abcdefghijklmnopqrstuvwxyz\"[24:8:-3])\n",
    "print(\"abcdefghijklmnopqrstuvwxyz\"[23:16:-6])"
   ]
  },
  {
   "cell_type": "markdown",
   "metadata": {},
   "source": [
    "### 6."
   ]
  },
  {
   "cell_type": "code",
   "execution_count": 70,
   "metadata": {},
   "outputs": [
    {
     "data": {
      "text/plain": [
       "'Fuck'"
      ]
     },
     "execution_count": 70,
     "metadata": {},
     "output_type": "execute_result"
    }
   ],
   "source": [
    "\"fuck\".capitalize()"
   ]
  },
  {
   "cell_type": "code",
   "execution_count": 73,
   "metadata": {},
   "outputs": [
    {
     "name": "stdout",
     "output_type": "stream",
     "text": [
      "~~~~~~~~shit~~~~~~~~\n"
     ]
    }
   ],
   "source": [
    "txt=\"shit\"\n",
    "x=txt.center(20, \"~\")\n",
    "print(x)"
   ]
  },
  {
   "cell_type": "code",
   "execution_count": 74,
   "metadata": {},
   "outputs": [
    {
     "name": "stdout",
     "output_type": "stream",
     "text": [
      "1\n"
     ]
    }
   ],
   "source": [
    "txt=\"bitch\"\n",
    "x=txt.count(\"bitch\")\n",
    "print(x)"
   ]
  },
  {
   "cell_type": "code",
   "execution_count": 77,
   "metadata": {},
   "outputs": [
    {
     "name": "stdout",
     "output_type": "stream",
     "text": [
      "True\n"
     ]
    }
   ],
   "source": [
    "txt=\"i got hoes\"\n",
    "x=txt.endswith(\"s\")\n",
    "print(x)"
   ]
  },
  {
   "cell_type": "code",
   "execution_count": 78,
   "metadata": {
    "scrolled": true
   },
   "outputs": [
    {
     "name": "stdout",
     "output_type": "stream",
     "text": [
      "10\n"
     ]
    }
   ],
   "source": [
    "txt=\"hurricane katrina, more like hurricane TORTILLA\"\n",
    "x=txt.find(\"katrina\")\n",
    "print(x)"
   ]
  },
  {
   "cell_type": "code",
   "execution_count": 95,
   "metadata": {},
   "outputs": [
    {
     "name": "stdout",
     "output_type": "stream",
     "text": [
      "Pullin' out the coupe at the lot\n",
      "Told 'em fuck 12, fuck SWAT\n",
      "Bustin' all the bales out the box\n",
      "I just hit a lick with the box\n",
      "Had to put the stick in a box, mm\n",
      "Pour up the whole damn seal, I'ma get lazy\n",
      "I got the mojo-deals, we been trappin' like the '80's\n",
      "91\n"
     ]
    }
   ],
   "source": [
    "txt=\"Pullin' out the coupe at the lot\\nTold 'em fuck 12, fuck SWAT\\nBustin' all the bales out the box\\nI just hit a lick with the box\\nHad to put the stick in a box, mm\\nPour up the whole damn seal, I'ma get lazy\\nI got the mojo-deals, we been trappin' like the '80's\"\n",
    "print(txt)\n",
    "x=txt.index(\"box\")\n",
    "print(x)"
   ]
  },
  {
   "cell_type": "code",
   "execution_count": 82,
   "metadata": {},
   "outputs": [
    {
     "name": "stdout",
     "output_type": "stream",
     "text": [
      "True\n"
     ]
    }
   ],
   "source": [
    "txt=\"fuck12\"\n",
    "x=txt.isalnum()\n",
    "print(x)"
   ]
  },
  {
   "cell_type": "code",
   "execution_count": 96,
   "metadata": {},
   "outputs": [
    {
     "name": "stdout",
     "output_type": "stream",
     "text": [
      "BONELESS PIZZA\n"
     ]
    }
   ],
   "source": [
    "txt=\"boneless pizza\"\n",
    "x=txt.upper()\n",
    "print(x)"
   ]
  },
  {
   "cell_type": "code",
   "execution_count": null,
   "metadata": {},
   "outputs": [],
   "source": []
  }
 ],
 "metadata": {
  "kernelspec": {
   "display_name": "Python 3",
   "language": "python",
   "name": "python3"
  },
  "language_info": {
   "codemirror_mode": {
    "name": "ipython",
    "version": 3
   },
   "file_extension": ".py",
   "mimetype": "text/x-python",
   "name": "python",
   "nbconvert_exporter": "python",
   "pygments_lexer": "ipython3",
   "version": "3.7.7"
  }
 },
 "nbformat": 4,
 "nbformat_minor": 4
}
