{
 "cells": [
  {
   "cell_type": "markdown",
   "metadata": {},
   "source": [
    "### 1."
   ]
  },
  {
   "cell_type": "markdown",
   "metadata": {},
   "source": [
    "##### ch 2 ex 2"
   ]
  },
  {
   "cell_type": "code",
   "execution_count": 1,
   "metadata": {},
   "outputs": [
    {
     "name": "stdout",
     "output_type": "stream",
     "text": [
      "enter a complex number: 2+4j\n",
      "4.47213595499958\n"
     ]
    }
   ],
   "source": [
    "a=input(\"enter a complex number: \")\n",
    "a=complex(a)\n",
    "print(abs(a))"
   ]
  },
  {
   "cell_type": "markdown",
   "metadata": {},
   "source": [
    "##### ch 2 ex 7"
   ]
  },
  {
   "cell_type": "code",
   "execution_count": 3,
   "metadata": {},
   "outputs": [
    {
     "name": "stdout",
     "output_type": "stream",
     "text": [
      "enter a temperature in fahrenheit: 72.9\n",
      "22.722222222222225\n"
     ]
    }
   ],
   "source": [
    "fahrenheit=input(\"enter a temperature in fahrenheit: \")\n",
    "fahrenheit=float(fahrenheit)\n",
    "celsius=(fahrenheit-32)*5/9\n",
    "print(celsius)"
   ]
  },
  {
   "cell_type": "code",
   "execution_count": 4,
   "metadata": {},
   "outputs": [
    {
     "name": "stdout",
     "output_type": "stream",
     "text": [
      "enter a temperature in celsius: 17.4\n",
      "63.32\n"
     ]
    }
   ],
   "source": [
    "celsius=input(\"enter a temperature in celsius: \")\n",
    "celsius=float(celsius)\n",
    "fahrenheit=(celsius*9/5)+32\n",
    "print(fahrenheit)"
   ]
  },
  {
   "cell_type": "markdown",
   "metadata": {},
   "source": [
    "##### ch 2 ex 8"
   ]
  },
  {
   "cell_type": "code",
   "execution_count": 6,
   "metadata": {},
   "outputs": [
    {
     "name": "stdout",
     "output_type": "stream",
     "text": [
      "enter height of cylinder: 3\n",
      "enter radius of cylinder: 1.5\n",
      "21.205750411731103\n",
      "42.411500823462205\n"
     ]
    }
   ],
   "source": [
    "from math import pi\n",
    "height=input(\"enter height of cylinder: \")\n",
    "radius=input(\"enter radius of cylinder: \")\n",
    "height=float(height)\n",
    "radius=float(radius)\n",
    "volume=pi*(radius**2)*height\n",
    "area=2*pi*radius*height+(2*pi*(radius**2))\n",
    "print(volume)\n",
    "print(area)"
   ]
  },
  {
   "cell_type": "markdown",
   "metadata": {},
   "source": [
    "##### ch 2 ex 9"
   ]
  },
  {
   "cell_type": "code",
   "execution_count": 8,
   "metadata": {},
   "outputs": [
    {
     "name": "stdout",
     "output_type": "stream",
     "text": [
      "enter the subtotal in dollars: 18.95\n",
      "enter the gratuity rate: .20\n",
      "3.79\n"
     ]
    }
   ],
   "source": [
    "subtotal=input(\"enter the subtotal in dollars: \")\n",
    "subtotal=float(subtotal)\n",
    "subtotalpennies=subtotal*100\n",
    "gratuity=input(\"enter the gratuity rate: \")\n",
    "gratuity=float(gratuity)\n",
    "tipinpennies=gratuity*subtotalpennies\n",
    "tipindollars=int(tipinpennies)/100\n",
    "print(tipindollars)"
   ]
  },
  {
   "cell_type": "markdown",
   "metadata": {},
   "source": [
    "##### ch 2 ex 10"
   ]
  },
  {
   "cell_type": "code",
   "execution_count": 11,
   "metadata": {},
   "outputs": [
    {
     "name": "stdout",
     "output_type": "stream",
     "text": [
      "enter an initial rate: 100\n",
      "enter an interest rate: 0.0026666\n",
      "604.2843843737335\n"
     ]
    }
   ],
   "source": [
    "initial=input(\"enter an initial rate: \")\n",
    "initial=float(initial)\n",
    "interestrate=input(\"enter an interest rate: \")\n",
    "interestrate=float(interestrate)\n",
    "month1=initial*(1+interestrate)\n",
    "month2=initial+month1*(1+interestrate)\n",
    "month3=initial+month2*(1+interestrate)\n",
    "month4=initial+month3*(1+interestrate)\n",
    "month5=initial+month4*(1+interestrate)\n",
    "month6=initial+month5*(1+interestrate)\n",
    "print(month6)"
   ]
  },
  {
   "cell_type": "markdown",
   "metadata": {},
   "source": [
    "##### ch 2 ex 12"
   ]
  },
  {
   "cell_type": "code",
   "execution_count": 13,
   "metadata": {},
   "outputs": [
    {
     "name": "stdout",
     "output_type": "stream",
     "text": [
      "enter first integer: 7\n",
      "enter second integer: 3\n",
      "(2, 1)\n"
     ]
    }
   ],
   "source": [
    "x=int(input(\"enter first integer: \"))\n",
    "y=int(input(\"enter second integer: \"))\n",
    "bigger=max(x,y)\n",
    "smaller=min(x,y)\n",
    "print(divmod(bigger,smaller))"
   ]
  },
  {
   "cell_type": "markdown",
   "metadata": {},
   "source": [
    "##### ch 3 ex 7"
   ]
  },
  {
   "cell_type": "code",
   "execution_count": 14,
   "metadata": {},
   "outputs": [
    {
     "name": "stdout",
     "output_type": "stream",
     "text": [
      "enter first name: ana\n",
      "enter last name: geddes\n",
      "geddan01\n"
     ]
    }
   ],
   "source": [
    "firstname=input(\"enter first name: \")\n",
    "lastname=input(\"enter last name: \")\n",
    "print((lastname[0:4])+(firstname[0:2])+\"01\")"
   ]
  },
  {
   "cell_type": "markdown",
   "metadata": {},
   "source": [
    "### 2. "
   ]
  },
  {
   "cell_type": "code",
   "execution_count": 16,
   "metadata": {},
   "outputs": [
    {
     "ename": "FileNotFoundError",
     "evalue": "[Errno 2] No such file or directory: 'seuss.txt'",
     "output_type": "error",
     "traceback": [
      "\u001b[0;31m---------------------------------------------------------------------------\u001b[0m",
      "\u001b[0;31mFileNotFoundError\u001b[0m                         Traceback (most recent call last)",
      "\u001b[0;32m<ipython-input-16-f0cc501250dd>\u001b[0m in \u001b[0;36m<module>\u001b[0;34m\u001b[0m\n\u001b[0;32m----> 1\u001b[0;31m \u001b[0;32mwith\u001b[0m \u001b[0mopen\u001b[0m\u001b[0;34m(\u001b[0m\u001b[0;34m\"seuss.txt\"\u001b[0m\u001b[0;34m,\u001b[0m \u001b[0;34m\"r\"\u001b[0m\u001b[0;34m)\u001b[0m \u001b[0;32mas\u001b[0m \u001b[0mf\u001b[0m\u001b[0;34m:\u001b[0m\u001b[0;34m\u001b[0m\u001b[0;34m\u001b[0m\u001b[0m\n\u001b[0m\u001b[1;32m      2\u001b[0m    \u001b[0;31m# print(f.read())\u001b[0m\u001b[0;34m\u001b[0m\u001b[0;34m\u001b[0m\u001b[0;34m\u001b[0m\u001b[0m\n\u001b[1;32m      3\u001b[0m     \u001b[0mh\u001b[0m \u001b[0;34m=\u001b[0m \u001b[0mf\u001b[0m\u001b[0;34m.\u001b[0m\u001b[0mread\u001b[0m\u001b[0;34m(\u001b[0m\u001b[0;34m)\u001b[0m\u001b[0;34m\u001b[0m\u001b[0;34m\u001b[0m\u001b[0m\n\u001b[1;32m      4\u001b[0m     \u001b[0mprint\u001b[0m\u001b[0;34m(\u001b[0m\u001b[0mh\u001b[0m\u001b[0;34m)\u001b[0m\u001b[0;34m\u001b[0m\u001b[0;34m\u001b[0m\u001b[0m\n\u001b[1;32m      5\u001b[0m     \u001b[0mg\u001b[0m \u001b[0;34m=\u001b[0m \u001b[0mh\u001b[0m\u001b[0;34m.\u001b[0m\u001b[0mlower\u001b[0m\u001b[0;34m(\u001b[0m\u001b[0;34m)\u001b[0m\u001b[0;34m\u001b[0m\u001b[0;34m\u001b[0m\u001b[0m\n",
      "\u001b[0;31mFileNotFoundError\u001b[0m: [Errno 2] No such file or directory: 'seuss.txt'"
     ]
    }
   ],
   "source": []
  },
  {
   "cell_type": "code",
   "execution_count": null,
   "metadata": {},
   "outputs": [],
   "source": []
  }
 ],
 "metadata": {
  "kernelspec": {
   "display_name": "Python 3",
   "language": "python",
   "name": "python3"
  },
  "language_info": {
   "codemirror_mode": {
    "name": "ipython",
    "version": 3
   },
   "file_extension": ".py",
   "mimetype": "text/x-python",
   "name": "python",
   "nbconvert_exporter": "python",
   "pygments_lexer": "ipython3",
   "version": "3.7.7"
  }
 },
 "nbformat": 4,
 "nbformat_minor": 4
}
